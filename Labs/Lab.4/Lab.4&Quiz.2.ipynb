{
 "cells": [
  {
   "cell_type": "markdown",
   "metadata": {},
   "source": [
    "# Lab 4- Object Oriented Programming\n",
    "\n",
    "For all of the exercises below, make sure you provide tests of your solutions.\n"
   ]
  },
  {
   "cell_type": "code",
   "execution_count": 55,
   "metadata": {
    "tags": []
   },
   "outputs": [
    {
     "name": "stdout",
     "output_type": "stream",
     "text": [
      "[('Clubs', '2'), ('Clubs', '3'), ('Clubs', '4'), ('Clubs', '5'), ('Clubs', '6'), ('Clubs', '7'), ('Clubs', '8'), ('Clubs', '9'), ('Clubs', '10'), ('Clubs', 'Jack'), ('Clubs', 'Queen'), ('Clubs', 'King'), ('Clubs', 'Ace'), ('Diamonds', '2'), ('Diamonds', '3'), ('Diamonds', '4'), ('Diamonds', '5'), ('Diamonds', '6'), ('Diamonds', '7'), ('Diamonds', '8'), ('Diamonds', '9'), ('Diamonds', '10'), ('Diamonds', 'Jack'), ('Diamonds', 'Queen'), ('Diamonds', 'King'), ('Diamonds', 'Ace'), ('Hearts', '2'), ('Hearts', '3'), ('Hearts', '4'), ('Hearts', '5'), ('Hearts', '6'), ('Hearts', '7'), ('Hearts', '8'), ('Hearts', '9'), ('Hearts', '10'), ('Hearts', 'Jack'), ('Hearts', 'Queen'), ('Hearts', 'King'), ('Hearts', 'Ace'), ('Spades', '2'), ('Spades', '3'), ('Spades', '4'), ('Spades', '5'), ('Spades', '6'), ('Spades', '7'), ('Spades', '8'), ('Spades', '9'), ('Spades', '10'), ('Spades', 'Jack'), ('Spades', 'Queen'), ('Spades', 'King'), ('Spades', 'Ace')]\n"
     ]
    }
   ],
   "source": [
    "###QUIZ 2\n",
    "\n",
    "def make_deck():\n",
    "    suits = ['Clubs', 'Diamonds', 'Hearts', 'Spades']\n",
    "    values = ['2', '3', '4', '5', '6', '7', '8', '9', '10', 'Jack', 'Queen', 'King', 'Ace']\n",
    "    deck = [(suit, value) for suit in suits for value in values]\n",
    "    return deck\n",
    "deck = make_deck()\n",
    "print(deck)"
   ]
  },
  {
   "cell_type": "markdown",
   "metadata": {},
   "source": [
    "1. Write a \"counter\" class that can be incremented up to a specified maximum value, will print an error if an attempt is made to increment beyond that value, and allows reseting the counter. "
   ]
  },
  {
   "cell_type": "code",
   "execution_count": 36,
   "metadata": {
    "tags": []
   },
   "outputs": [],
   "source": [
    "import math"
   ]
  },
  {
   "cell_type": "code",
   "execution_count": 5,
   "metadata": {
    "tags": []
   },
   "outputs": [],
   "source": [
    "class counter:\n",
    "    def __init__ (self, max_value):\n",
    "        self.max_value=max_value\n",
    "        self.value=0\n",
    "        \n",
    "    def increment(self):\n",
    "        if self.value<self.max_value:\n",
    "            self.value+=1\n",
    "        else:\n",
    "            print(\"Reached maximum value\")\n",
    "            \n",
    "    def reset(self):\n",
    "        self.value=0\n",
    "        \n",
    "max_value=10\n",
    "counter=counter(max_value)"
   ]
  },
  {
   "cell_type": "markdown",
   "metadata": {},
   "source": [
    "2. Copy and paste your solution to question 1 and modify it so that all the data held by the counter is private. Implement functions to check the value of the counter, check the maximum value, and check if the counter is at the maximum."
   ]
  },
  {
   "cell_type": "code",
   "execution_count": 33,
   "metadata": {
    "tags": []
   },
   "outputs": [
    {
     "name": "stdout",
     "output_type": "stream",
     "text": [
      "Count: 1 | Maximum: 10 | At Maximum: False\n",
      "Count: 2 | Maximum: 10 | At Maximum: False\n",
      "Count: 3 | Maximum: 10 | At Maximum: False\n",
      "Count: 4 | Maximum: 10 | At Maximum: False\n",
      "Count: 5 | Maximum: 10 | At Maximum: False\n",
      "Count: 6 | Maximum: 10 | At Maximum: False\n",
      "Count: 7 | Maximum: 10 | At Maximum: False\n",
      "Count: 8 | Maximum: 10 | At Maximum: False\n",
      "Count: 9 | Maximum: 10 | At Maximum: False\n",
      "Count: 10 | Maximum: 10 | At Maximum: True\n",
      "Reached maximum value.\n",
      "Count: 10 | Maximum: 10 | At Maximum: True\n",
      "Reached maximum value.\n",
      "Count: 10 | Maximum: 10 | At Maximum: True\n",
      "Reached maximum value.\n",
      "Count: 10 | Maximum: 10 | At Maximum: True\n",
      "Reached maximum value.\n",
      "Count: 10 | Maximum: 10 | At Maximum: True\n",
      "Reached maximum value.\n",
      "Count: 10 | Maximum: 10 | At Maximum: True\n",
      "After reset, count: 0\n"
     ]
    }
   ],
   "source": [
    "class counter:\n",
    "    def __init__(self, max_value):\n",
    "        self.__count=0\n",
    "        self.__max_value=max_value\n",
    "    def increment(self):\n",
    "        if self.__count < self.__max_value:\n",
    "            self.__count+=1\n",
    "        else:\n",
    "            print(\"Reached maximum value.\")\n",
    "    def reset(self):\n",
    "        self.__count = 0\n",
    "    def get_count(self):\n",
    "        return self.__count\n",
    "    def get_max(self):\n",
    "        return self.__max_value\n",
    "    def is_at_max(self):\n",
    "        return self.__count == self.__max_value\n",
    "max_value = 10\n",
    "counter_instance = counter(max_value)\n",
    "for _ in range(15):\n",
    "    counter_instance.increment()\n",
    "    print(\"Count:\", counter_instance.get_count(), \"| Maximum:\", counter_instance.get_max(), \"| At Maximum:\", counter_instance.is_at_max())\n",
    "counter_instance.reset()\n",
    "print(\"After reset, count:\", counter_instance.get_count())\n"
   ]
  },
  {
   "cell_type": "markdown",
   "metadata": {},
   "source": [
    "3. Implement a class to represent a rectangle, holding the length, width, and $x$ and $y$ coordinates of a corner of the object. Implement functions that compute the area and perimeter of the rectangle. Make all data members private and privide accessors to retrieve values of data members. "
   ]
  },
  {
   "cell_type": "code",
   "execution_count": 22,
   "metadata": {
    "tags": []
   },
   "outputs": [
    {
     "name": "stdout",
     "output_type": "stream",
     "text": [
      "Length: 5\n",
      "Width: 3\n",
      "X coordinate: 2\n",
      "Y coordinate: 2\n",
      "Area: 15\n",
      "Perimeter: 16\n"
     ]
    }
   ],
   "source": [
    "class rectangle:\n",
    "    def __init__(self, l,w,x,y):\n",
    "        self.l=l\n",
    "        self.w=w\n",
    "        self.x=x\n",
    "        self.y=y\n",
    "    def get_l(self):\n",
    "        return self.l\n",
    "    def get_w(self):\n",
    "        return self.w\n",
    "    def get_x(self):\n",
    "        return self.x\n",
    "    def get_y(self):\n",
    "        return self.y\n",
    "    def area(self):\n",
    "        return self.l * self.w\n",
    "    def perimeter(self):\n",
    "        return 2 * (self.l + self.w)\n",
    "    \n",
    "rectangle = rectangle(5, 3, 2, 2)\n",
    "\n",
    "print(\"Length:\", rectangle.get_l())           \n",
    "print(\"Width:\", rectangle.get_w())              \n",
    "print(\"X coordinate:\", rectangle.get_x())\n",
    "print(\"Y coordinate:\", rectangle.get_y())\n",
    "print(\"Area:\", rectangle.area())                    \n",
    "print(\"Perimeter:\", rectangle.perimeter()) "
   ]
  },
  {
   "cell_type": "markdown",
   "metadata": {},
   "source": [
    "4. Implement a class to represent a circle, holding the radius and $x$ and $y$ coordinates of center of the object. Implement functions that compute the area and perimeter of the rectangle. Make all data members private and privide accessors to retrieve values of data members. "
   ]
  },
  {
   "cell_type": "code",
   "execution_count": 23,
   "metadata": {
    "tags": []
   },
   "outputs": [
    {
     "name": "stdout",
     "output_type": "stream",
     "text": [
      "Radius: 5\n",
      "X coordinate: 0\n",
      "Y coordinate: 0\n",
      "Area: 78.5\n",
      "Perimeter: 31.400000000000002\n"
     ]
    }
   ],
   "source": [
    "class circle:\n",
    "    def __init__(self,r,x,y):\n",
    "        self.r=r\n",
    "        self.x=x\n",
    "        self.y=y\n",
    "    def get_r(self):\n",
    "        return self.r\n",
    "    def get_x(self):\n",
    "        return self.x\n",
    "    def get_y(self):\n",
    "        return self.y\n",
    "    def area(self):\n",
    "        return 3.14*(self.r**2)\n",
    "    def perimeter(self):\n",
    "        return 2*3.14*self.r\n",
    "    \n",
    "circle=circle(5,0,0)\n",
    "print(\"Radius:\", circle.get_r())                 \n",
    "print(\"X coordinate:\", circle.get_x())       \n",
    "print(\"Y coordinate:\", circle.get_y())       \n",
    "print(\"Area:\", circle.area())                          \n",
    "print(\"Perimeter:\", circle.perimeter())"
   ]
  },
  {
   "cell_type": "markdown",
   "metadata": {},
   "source": [
    "5. Implement a common base class for the classes implemented in 3 and 4 above which implements all common methods as not implemented functions (virtual). Re-implement your regtangle and circule classes to inherit from the base class and overload the functions accordingly. "
   ]
  },
  {
   "cell_type": "code",
   "execution_count": 46,
   "metadata": {
    "tags": []
   },
   "outputs": [
    {
     "name": "stdout",
     "output_type": "stream",
     "text": [
      "Area: 15\n",
      "Perimeter: 16\n",
      "Area: 78.5\n",
      "Perimeter: 31.400000000000002\n"
     ]
    }
   ],
   "source": [
    "class shape:\n",
    "    def area(self):\n",
    "        raise NotImplementedError(\"Subclasses must have the area() method\")\n",
    "    def perimeter(self):\n",
    "        raise NotImplementedError(\"Subclasses must have the perimeter() method\")\n",
    "\n",
    "class rectangle(shape):\n",
    "    def __init__(self, l,w,x,y):\n",
    "        self.l=l\n",
    "        self.w=w\n",
    "        self.x=x\n",
    "        self.y=y\n",
    "    def get_l(self):\n",
    "        return self.l\n",
    "    def get_w(self):\n",
    "        return self.w\n",
    "    def get_x(self):\n",
    "        return self.x\n",
    "    def get_y(self):\n",
    "        return self.y\n",
    "    def area(self):\n",
    "        return self.l * self.w\n",
    "    def perimeter(self):\n",
    "        return 2 * (self.l + self.w)\n",
    "        \n",
    "class circle(shape):\n",
    "    def __init__(self,r,x,y):\n",
    "        self.r=r\n",
    "        self.x=x\n",
    "        self.y=y\n",
    "    def get_r(self):\n",
    "        return self.r\n",
    "    def get_x(self):\n",
    "        return self.x\n",
    "    def get_y(self):\n",
    "        return self.y\n",
    "    def area(self):\n",
    "        return 3.14*(self.r**2)\n",
    "    def perimeter(self):\n",
    "        return 2*3.14*self.r\n",
    "\n",
    "rectangle = rectangle(5, 3, 2, 2)\n",
    "circle=circle(5,0,0)\n",
    "\n",
    "print(\"Area:\", rectangle.area())                    \n",
    "print(\"Perimeter:\", rectangle.perimeter()) \n",
    "print(\"Area:\", circle.area())                          \n",
    "print(\"Perimeter:\", circle.perimeter())"
   ]
  },
  {
   "cell_type": "markdown",
   "metadata": {},
   "source": [
    "6. Implement a triangle class analogous to the rectangle and circle in question 5."
   ]
  },
  {
   "cell_type": "code",
   "execution_count": 25,
   "metadata": {
    "tags": []
   },
   "outputs": [
    {
     "name": "stdout",
     "output_type": "stream",
     "text": [
      "Triangle area: 4.0\n",
      "Triangle perimeter: 12\n"
     ]
    }
   ],
   "source": [
    "class triangle(shape):\n",
    "    def __init__(self, a,b,c,h,x,y):\n",
    "        self.a=a\n",
    "        self.b=b\n",
    "        self.c=c\n",
    "        self.h=h\n",
    "        self.x=x\n",
    "        self.y=y\n",
    "    def get_a(self):\n",
    "        return self.a\n",
    "    def get_b(self):\n",
    "        return self.b\n",
    "    def get_c(self):\n",
    "        return self.c\n",
    "    def get_h(self):\n",
    "        return self.h\n",
    "    def get_x(self):\n",
    "        return self.x\n",
    "    def get_y(self):\n",
    "        return self.y   \n",
    "    def area(self):\n",
    "        return (self.h*self.b)/2\n",
    "    def perimeter(self):\n",
    "        return self.a+self.b+self.c\n",
    "    \n",
    "triangle=triangle(3,4,5,2,0,0)\n",
    "print(\"Triangle area:\", triangle.area())\n",
    "print("
   ]
  },
  {
   "cell_type": "markdown",
   "metadata": {},
   "source": [
    "7. Add a function to the object classes, including the base, that returns a list of up to 16 pairs of  $x$ and $y$ points on the parameter of the object. "
   ]
  },
  {
   "cell_type": "code",
   "execution_count": 47,
   "metadata": {
    "tags": []
   },
   "outputs": [
    {
     "name": "stdout",
     "output_type": "stream",
     "text": [
      "Rectangle boundary points: [(0, 0), (1, 0), (2, 0), (3, 0), (5, 1), (5, 2), (5, 3), (5, 4), (4, 3), (3, 3), (2, 3), (1, 3), (0, 2), (0, 1), (0, 0), (0, -1)]\n",
      "Circle boundary points: [(5.0, 0.0), (4.61977849735136, 1.9124974863800484), (3.5369413458359986, 3.53412590552683), (1.9161757330030915, 4.618254059734054), (0.003981633553666317, 4.999998414659173), (-1.9088180269728672, 4.6213000053992825), (-3.5313082241000266, 3.5397545432421613), (-4.616726693514062, 1.9198527645094856), (-4.999993658637697, 0.00796326458243414), (-4.622818582912976, -1.905137357114826), (-3.542565495961364, -3.5284883033423835), (-1.9235285785674936, -4.615196399659945), (-0.011944890561407693, -4.99998573193859), (1.9014554791399707, -4.624334228929456), (3.525666145042114, -3.545374202211084), (4.613663179142118, -1.927203172846144)]\n",
      "Triangle boundary points: [(0.0, 0), (0.6, 0), (1.2, 0), (1.8, 0), (2.4, 0), (3.0, 0), (3, 0.8), (3, 1.6), (3, 2.4), (3, 3.2), (3, 4.0), (2.4, 4), (1.8, 4), (1.2, 4), (0.6000000000000001, 4), (0.0, 4)]\n"
     ]
    }
   ],
   "source": [
    "class shape:\n",
    "    def get_boundary(self):\n",
    "        raise NotImplementedError(\"Subclasses must have the get_boundary() method.\")\n",
    "    def area(self):\n",
    "        raise NotImplementedError(\"Subclasses must have the area() method\")\n",
    "    def perimeter(self):\n",
    "        raise NotImplementedError(\"Subclasses must have the perimeter() method\")\n",
    "\n",
    "class rectangle(Shape):\n",
    "    def __init__(self, l,w,x,y):\n",
    "        self.l=l\n",
    "        self.w=w\n",
    "        self.x=x\n",
    "        self.y=y\n",
    "    def get_l(self):\n",
    "        return self.l\n",
    "    def get_w(self):\n",
    "        return self.w\n",
    "    def get_x(self):\n",
    "        return self.x\n",
    "    def get_y(self):\n",
    "        return self.y\n",
    "    def area(self):\n",
    "        return self.l * self.w\n",
    "    def perimeter(self):\n",
    "        return 2 * (self.l + self.w)\n",
    "    def get_boundary(self):\n",
    "        boundary = []\n",
    "        for i in range(16):\n",
    "            if i < 4:\n",
    "                boundary.append((self.x + i, self.y))\n",
    "            elif i < 8:\n",
    "                boundary.append((self.x + self.l, self.y + i - 3))\n",
    "            elif i < 12:\n",
    "                boundary.append((self.x + self.l - (i - 7), self.y + self.w))\n",
    "            else:\n",
    "                boundary.append((self.x, self.y + self.w - (i - 11)))\n",
    "        return boundary\n",
    "\n",
    "class circle(Shape):\n",
    "    def __init__(self,r,x,y):\n",
    "        self.r=r\n",
    "        self.x=x\n",
    "        self.y=y\n",
    "    def get_r(self):\n",
    "        return self.r\n",
    "    def get_x(self):\n",
    "        return self.x\n",
    "    def get_y(self):\n",
    "        return self.y\n",
    "    def area(self):\n",
    "        return 3.14*(self.r**2)\n",
    "    def perimeter(self):\n",
    "        return 2*3.14*self.r\n",
    "    def get_boundary(self):\n",
    "        boundary = []\n",
    "        for i in range(16):\n",
    "            angle = 2 * 3.14 * i / 16\n",
    "            x = self.x + self.r * math.cos(angle)\n",
    "            y = self.y + self.r * math.sin(angle)\n",
    "            boundary.append((x, y))\n",
    "        return boundary\n",
    "\n",
    "class triangle(Shape):\n",
    "    def __init__(self, a,b,c,h,x,y):\n",
    "        self.a=a\n",
    "        self.b=b\n",
    "        self.c=c\n",
    "        self.h=h\n",
    "        self.x=x\n",
    "        self.y=y\n",
    "    def get_a(self):\n",
    "        return self.a\n",
    "    def get_b(self):\n",
    "        return self.b\n",
    "    def get_c(self):\n",
    "        return self.c\n",
    "    def get_h(self):\n",
    "        return self.h\n",
    "    def get_x(self):\n",
    "        return self.x\n",
    "    def get_y(self):\n",
    "        return self.y   \n",
    "    def area(self):\n",
    "        return (self.h*self.b)/2\n",
    "    def perimeter(self):\n",
    "        return self.a+self.b+self.c\n",
    "    def get_boundary(self):\n",
    "        boundary = []\n",
    "        for i in range(16):\n",
    "            if i < 6:\n",
    "                x = self.x + i * self.a / 5\n",
    "                y = self.y\n",
    "            elif i < 11:\n",
    "                x = self.x + self.a\n",
    "                y = self.y + (i - 5) * self.b / 5\n",
    "            else:\n",
    "                x = self.x + self.a - (i - 10) * self.a / 5\n",
    "                y = self.y + self.b\n",
    "            boundary.append((x, y))\n",
    "        return boundary\n",
    "\n",
    "rectangle = rectangle(5,3,0,0)\n",
    "circle = circle(5,0,0)\n",
    "triangle = triangle(3,4,5,2,0,0)\n",
    "\n",
    "print(\"Rectangle boundary points:\", rectangle.get_boundary())\n",
    "print(\"Circle boundary points:\", circle.get_boundary())\n",
    "print(\"Triangle boundary points:\", triangle.get_boundary())\n"
   ]
  },
  {
   "cell_type": "markdown",
   "metadata": {},
   "source": [
    "8. Add a function to the object classes, including the base, that tests if a given set of $x$ and $y$ coordinates are inside of the object. You'll have to think through how to determine if a set of coordinates are inside an object for each object type."
   ]
  },
  {
   "cell_type": "code",
   "execution_count": null,
   "metadata": {},
   "outputs": [],
   "source": []
  },
  {
   "cell_type": "markdown",
   "metadata": {},
   "source": [
    "9. Add a function in the base class of the object classes that returns true/false testing that the object overlaps with another object."
   ]
  },
  {
   "cell_type": "code",
   "execution_count": null,
   "metadata": {},
   "outputs": [],
   "source": []
  },
  {
   "cell_type": "markdown",
   "metadata": {},
   "source": [
    "10. Copy the `Canvas` class from lecture to in a python file creating a `paint` module. Copy your classes from above into the module and implement paint functions. Implement a `CompoundShape` class. Create a simple drawing demonstrating that all of your classes are working."
   ]
  },
  {
   "cell_type": "code",
   "execution_count": 48,
   "metadata": {
    "tags": []
   },
   "outputs": [
    {
     "ename": "AttributeError",
     "evalue": "'rectangle' object has no attribute 'paint'",
     "output_type": "error",
     "traceback": [
      "\u001b[0;31m---------------------------------------------------------------------------\u001b[0m",
      "\u001b[0;31mAttributeError\u001b[0m                            Traceback (most recent call last)",
      "Cell \u001b[0;32mIn[48], line 149\u001b[0m\n\u001b[1;32m    147\u001b[0m triangle \u001b[38;5;241m=\u001b[39m triangle(\u001b[38;5;241m3\u001b[39m, \u001b[38;5;241m3\u001b[39m, \u001b[38;5;241m8\u001b[39m, \u001b[38;5;241m3\u001b[39m, \u001b[38;5;241m5\u001b[39m, \u001b[38;5;241m10\u001b[39m)\n\u001b[1;32m    148\u001b[0m compound_shape \u001b[38;5;241m=\u001b[39m CompoundShape([rectangle, circle, triangle])\n\u001b[0;32m--> 149\u001b[0m \u001b[43mcompound_shape\u001b[49m\u001b[38;5;241;43m.\u001b[39;49m\u001b[43mpaint\u001b[49m\u001b[43m(\u001b[49m\u001b[43mcanvas\u001b[49m\u001b[43m)\u001b[49m\n\u001b[1;32m    150\u001b[0m canvas\u001b[38;5;241m.\u001b[39mdraw()\n",
      "Cell \u001b[0;32mIn[48], line 142\u001b[0m, in \u001b[0;36mCompoundShape.paint\u001b[0;34m(self, canvas)\u001b[0m\n\u001b[1;32m    140\u001b[0m \u001b[38;5;28;01mdef\u001b[39;00m \u001b[38;5;21mpaint\u001b[39m(\u001b[38;5;28mself\u001b[39m, canvas):\n\u001b[1;32m    141\u001b[0m     \u001b[38;5;28;01mfor\u001b[39;00m shape \u001b[38;5;129;01min\u001b[39;00m \u001b[38;5;28mself\u001b[39m\u001b[38;5;241m.\u001b[39mshapes:\n\u001b[0;32m--> 142\u001b[0m         \u001b[43mshape\u001b[49m\u001b[38;5;241;43m.\u001b[39;49m\u001b[43mpaint\u001b[49m(canvas)\n",
      "\u001b[0;31mAttributeError\u001b[0m: 'rectangle' object has no attribute 'paint'"
     ]
    }
   ],
   "source": [
    "class Canvas:\n",
    "    def __init__(self, width, height):\n",
    "        self.width = width\n",
    "        self.height = height\n",
    "        self.data = [[' '] * width for i in range(height)]\n",
    "\n",
    "    def set_pixel(self, row, col, char='*'):\n",
    "        self.data[row][col] = char\n",
    "\n",
    "    def get_pixel(self, row, col):\n",
    "        return self.data[row][col]\n",
    "    \n",
    "    def clear_canvas(self):\n",
    "        self.data = [[' '] * self.width for i in range(self.height)]\n",
    "    \n",
    "    def v_line(self, x, y, w, **kargs):\n",
    "        for i in range(x,x+w):\n",
    "            self.set_pixel(i,y, **kargs)\n",
    "\n",
    "    def h_line(self, x, y, h, **kargs):\n",
    "        for i in range(y,y+h):\n",
    "            self.set_pixel(x,i, **kargs)\n",
    "            \n",
    "    def line(self, x1, y1, x2, y2, **kargs):\n",
    "        slope = (y2-y1) / (x2-x1)\n",
    "        for y in range(y1,y2):\n",
    "            x= int(slope * y)\n",
    "            self.set_pixel(x,y, **kargs)\n",
    "            \n",
    "    def display(self):\n",
    "        print(\"\\n\".join([\"\".join(row) for row in self.data]))\n",
    "        \n",
    "class rectangle(Shape):\n",
    "    def __init__(self, l,w,x,y):\n",
    "        self.l=l\n",
    "        self.w=w\n",
    "        self.x=x\n",
    "        self.y=y\n",
    "    def get_l(self):\n",
    "        return self.l\n",
    "    def get_w(self):\n",
    "        return self.w\n",
    "    def get_x(self):\n",
    "        return self.x\n",
    "    def get_y(self):\n",
    "        return self.y\n",
    "    def area(self):\n",
    "        return self.l * self.w\n",
    "    def perimeter(self):\n",
    "        return 2 * (self.l + self.w)\n",
    "    def get_boundary(self):\n",
    "        boundary = []\n",
    "        for i in range(16):\n",
    "            if i < 4:\n",
    "                boundary.append((self.x + i, self.y))\n",
    "            elif i < 8:\n",
    "                boundary.append((self.x + self.l, self.y + i - 3))\n",
    "            elif i < 12:\n",
    "                boundary.append((self.x + self.l - (i - 7), self.y + self.w))\n",
    "            else:\n",
    "                boundary.append((self.x, self.y + self.w - (i - 11)))\n",
    "        return boundary\n",
    "\n",
    "class circle(Shape):\n",
    "    def __init__(self,r,x,y):\n",
    "        self.r=r\n",
    "        self.x=x\n",
    "        self.y=y\n",
    "    def get_r(self):\n",
    "        return self.r\n",
    "    def get_x(self):\n",
    "        return self.x\n",
    "    def get_y(self):\n",
    "        return self.y\n",
    "    def area(self):\n",
    "        return 3.14*(self.r**2)\n",
    "    def perimeter(self):\n",
    "        return 2*3.14*self.r\n",
    "    def get_boundary(self):\n",
    "        boundary = []\n",
    "        for i in range(16):\n",
    "            angle = 2 * 3.14 * i / 16\n",
    "            x = self.x + self.r * math.cos(angle)\n",
    "            y = self.y + self.r * math.sin(angle)\n",
    "            boundary.append((x, y))\n",
    "        return boundary\n",
    "\n",
    "class triangle(Shape):\n",
    "    def __init__(self, a,b,c,h,x,y):\n",
    "        self.a=a\n",
    "        self.b=b\n",
    "        self.c=c\n",
    "        self.h=h\n",
    "        self.x=x\n",
    "        self.y=y\n",
    "    def get_a(self):\n",
    "        return self.a\n",
    "    def get_b(self):\n",
    "        return self.b\n",
    "    def get_c(self):\n",
    "        return self.c\n",
    "    def get_h(self):\n",
    "        return self.h\n",
    "    def get_x(self):\n",
    "        return self.x\n",
    "    def get_y(self):\n",
    "        return self.y   \n",
    "    def area(self):\n",
    "        return (self.h*self.b)/2\n",
    "    def perimeter(self):\n",
    "        return self.a+self.b+self.c\n",
    "    def get_boundary(self):\n",
    "        boundary = []\n",
    "        for i in range(16):\n",
    "            if i < 6:\n",
    "                x = self.x + i * self.a / 5\n",
    "                y = self.y\n",
    "            elif i < 11:\n",
    "                x = self.x + self.a\n",
    "                y = self.y + (i - 5) * self.b / 5\n",
    "            else:\n",
    "                x = self.x + self.a - (i - 10) * self.a / 5\n",
    "                y = self.y + self.b\n",
    "            boundary.append((x, y))\n",
    "        return boundary\n",
    "    \n",
    "class CompoundShape(shape):\n",
    "    def __init__(self, shapes):\n",
    "        super().__init__()\n",
    "        self.shapes = shapes\n",
    "    def get_boundary(self):\n",
    "        boundary = []\n",
    "        for shape in self.shapes:\n",
    "            boundary.extend(shape.get_boundary())\n",
    "        return boundary\n",
    "    def is_inside(self, x, y):\n",
    "        return any(shape.is_inside(x, y) for shape in self.shapes)\n",
    "    def overlaps_with(self, other_shape):\n",
    "        return any(shape.overlaps_with(other_shape) for shape in self.shapes)\n",
    "    def paint(self, canvas):\n",
    "        for shape in self.shapes:\n",
    "            shape.paint(canvas)\n",
    "    \n",
    "canvas = Canvas(20, 20)\n",
    "rectangle = rectangle(8, 5, 1, 1)\n",
    "circle = circle(4, 15, 5)\n",
    "triangle = triangle(3, 3, 8, 3, 5, 10)\n",
    "\n",
    "compound_shape = CompoundShape([rectangle, circle, triangle])\n",
    "compound_shape.paint(canvas)\n",
    "canvas.draw()"
   ]
  },
  {
   "cell_type": "markdown",
   "metadata": {},
   "source": [
    "11. Create a `RasterDrawing` class. Demonstrate that you can create a drawing made of several shapes, paint the drawing, modify the drawing, and paint it again. "
   ]
  },
  {
   "cell_type": "code",
   "execution_count": 51,
   "metadata": {
    "tags": []
   },
   "outputs": [
    {
     "ename": "NameError",
     "evalue": "name 'Rectangle' is not defined",
     "output_type": "error",
     "traceback": [
      "\u001b[0;31m---------------------------------------------------------------------------\u001b[0m",
      "\u001b[0;31mNameError\u001b[0m                                 Traceback (most recent call last)",
      "Cell \u001b[0;32mIn[51], line 16\u001b[0m\n\u001b[1;32m     14\u001b[0m         \u001b[38;5;28mself\u001b[39m\u001b[38;5;241m.\u001b[39mcanvas\u001b[38;5;241m.\u001b[39mdraw()\n\u001b[1;32m     15\u001b[0m drawing \u001b[38;5;241m=\u001b[39m RasterDrawing(\u001b[38;5;241m20\u001b[39m, \u001b[38;5;241m20\u001b[39m)\n\u001b[0;32m---> 16\u001b[0m rectangle \u001b[38;5;241m=\u001b[39m \u001b[43mRectangle\u001b[49m(\u001b[38;5;241m8\u001b[39m, \u001b[38;5;241m5\u001b[39m, \u001b[38;5;241m1\u001b[39m, \u001b[38;5;241m1\u001b[39m)\n\u001b[1;32m     17\u001b[0m circle \u001b[38;5;241m=\u001b[39m Circle(\u001b[38;5;241m4\u001b[39m, \u001b[38;5;241m15\u001b[39m, \u001b[38;5;241m5\u001b[39m)\n\u001b[1;32m     18\u001b[0m triangle \u001b[38;5;241m=\u001b[39m Triangle(\u001b[38;5;241m3\u001b[39m, \u001b[38;5;241m3\u001b[39m, \u001b[38;5;241m8\u001b[39m, \u001b[38;5;241m3\u001b[39m, \u001b[38;5;241m5\u001b[39m, \u001b[38;5;241m10\u001b[39m)\n",
      "\u001b[0;31mNameError\u001b[0m: name 'Rectangle' is not defined"
     ]
    }
   ],
   "source": [
    "class RasterDrawing:\n",
    "    def __init__(self, width, height):\n",
    "        self.canvas = Canvas(width, height)\n",
    "        self.shapes = []\n",
    "    def add_shape(self, shape):\n",
    "        self.shapes.append(shape)\n",
    "    def remove_shape(self, shape):\n",
    "        if shape in self.shapes:\n",
    "            self.shapes.remove(shape)\n",
    "    def paint(self):\n",
    "        self.canvas.clear()\n",
    "        for shape in self.shapes:\n",
    "            shape.paint(self.canvas)\n",
    "        self.canvas.draw()\n",
    "drawing = RasterDrawing(20, 20)\n",
    "rectangle = Rectangle(8, 5, 1, 1)\n",
    "circle = Circle(4, 15, 5)\n",
    "triangle = Triangle(3, 3, 8, 3, 5, 10)\n",
    "\n",
    "drawing.add_shape(rectangle)\n",
    "drawing.add_shape(circle)\n",
    "drawing.add_shape(triangle)\n",
    "\n",
    "print(\"Original Drawing:\")\n",
    "drawing.paint()\n",
    "\n",
    "drawing.remove_shape(triangle)\n",
    "new_rectangle = rectangle(6, 4, 10, 12)\n",
    "drawing.add_shape(new_rectangle)\n",
    "\n",
    "print(\"\\nModified Drawing:\")\n",
    "drawing.paint()\n"
   ]
  },
  {
   "cell_type": "markdown",
   "metadata": {},
   "source": [
    "12. Implement the ability to load/save raster drawings and demonstate that your method works. One way to implement this ability:\n",
    "\n",
    "   * Overload `__repr__` functions of all objects to return strings of the python code that would construct the object.\n",
    "   \n",
    "   * In the save method of raster drawing class, store the representations into the file.\n",
    "   * Write a loader function that reads the file and uses `eval` to instantiate the object.\n",
    "\n",
    "For example:"
   ]
  },
  {
   "cell_type": "code",
   "execution_count": 1,
   "metadata": {},
   "outputs": [],
   "source": [
    "class foo:\n",
    "    def __init__(self,a,b=None):\n",
    "        self.a=a\n",
    "        self.b=b\n",
    "        \n",
    "    def __repr__(self):\n",
    "        return \"foo(\"+repr(self.a)+\",\"+repr(self.b)+\")\"\n",
    "    \n",
    "    def save(self,filename):\n",
    "        f=open(filename,\"w\")\n",
    "        f.write(self.__repr__())\n",
    "        f.close()\n",
    "        \n",
    "   \n",
    "def foo_loader(filename):\n",
    "    f=open(filename,\"r\")\n",
    "    tmp=eval(f.read())\n",
    "    f.close()\n",
    "    return tmp\n"
   ]
  },
  {
   "cell_type": "code",
   "execution_count": 2,
   "metadata": {},
   "outputs": [
    {
     "name": "stdout",
     "output_type": "stream",
     "text": [
      "foo(1,'hello')\n"
     ]
    }
   ],
   "source": [
    "# Test\n",
    "print(repr(foo(1,\"hello\")))"
   ]
  },
  {
   "cell_type": "code",
   "execution_count": 3,
   "metadata": {},
   "outputs": [],
   "source": [
    "# Create an object and save it\n",
    "ff=foo(1,\"hello\")\n",
    "ff.save(\"Test.foo\")"
   ]
  },
  {
   "cell_type": "code",
   "execution_count": 4,
   "metadata": {},
   "outputs": [
    {
     "name": "stdout",
     "output_type": "stream",
     "text": [
      "foo(1,'hello')"
     ]
    }
   ],
   "source": [
    "# Check contents of the saved file\n",
    "!cat Test.foo"
   ]
  },
  {
   "cell_type": "code",
   "execution_count": 5,
   "metadata": {},
   "outputs": [
    {
     "data": {
      "text/plain": [
       "foo(1,'hello')"
      ]
     },
     "execution_count": 5,
     "metadata": {},
     "output_type": "execute_result"
    }
   ],
   "source": [
    "# Load the object\n",
    "ff_reloaded=foo_loader(\"Test.foo\")\n",
    "ff_reloaded"
   ]
  },
  {
   "cell_type": "code",
   "execution_count": 53,
   "metadata": {
    "tags": []
   },
   "outputs": [
    {
     "ename": "AttributeError",
     "evalue": "'rectangle' object has no attribute 'l'",
     "output_type": "error",
     "traceback": [
      "\u001b[0;31m---------------------------------------------------------------------------\u001b[0m",
      "\u001b[0;31mAttributeError\u001b[0m                            Traceback (most recent call last)",
      "Cell \u001b[0;32mIn[53], line 65\u001b[0m\n\u001b[1;32m     62\u001b[0m drawing\u001b[38;5;241m.\u001b[39madd_shape(circle)\n\u001b[1;32m     63\u001b[0m drawing\u001b[38;5;241m.\u001b[39madd_shape(triangle)\n\u001b[0;32m---> 65\u001b[0m \u001b[43mdrawing\u001b[49m\u001b[38;5;241;43m.\u001b[39;49m\u001b[43msave\u001b[49m\u001b[43m(\u001b[49m\u001b[38;5;124;43m'\u001b[39;49m\u001b[38;5;124;43mdrawing.txt\u001b[39;49m\u001b[38;5;124;43m'\u001b[39;49m\u001b[43m)\u001b[49m\n\u001b[1;32m     66\u001b[0m loaded_drawing \u001b[38;5;241m=\u001b[39m load(\u001b[38;5;124m'\u001b[39m\u001b[38;5;124mdrawing.txt\u001b[39m\u001b[38;5;124m'\u001b[39m)\n",
      "Cell \u001b[0;32mIn[53], line 20\u001b[0m, in \u001b[0;36mRasterDrawing.save\u001b[0;34m(self, filename)\u001b[0m\n\u001b[1;32m     18\u001b[0m \u001b[38;5;28;01mwith\u001b[39;00m \u001b[38;5;28mopen\u001b[39m(filename, \u001b[38;5;124m'\u001b[39m\u001b[38;5;124mw\u001b[39m\u001b[38;5;124m'\u001b[39m) \u001b[38;5;28;01mas\u001b[39;00m file:\n\u001b[1;32m     19\u001b[0m     \u001b[38;5;28;01mfor\u001b[39;00m shape \u001b[38;5;129;01min\u001b[39;00m \u001b[38;5;28mself\u001b[39m\u001b[38;5;241m.\u001b[39mshapes:\n\u001b[0;32m---> 20\u001b[0m         file\u001b[38;5;241m.\u001b[39mwrite(\u001b[38;5;28;43mrepr\u001b[39;49m\u001b[43m(\u001b[49m\u001b[43mshape\u001b[49m\u001b[43m)\u001b[49m \u001b[38;5;241m+\u001b[39m \u001b[38;5;124m'\u001b[39m\u001b[38;5;130;01m\\n\u001b[39;00m\u001b[38;5;124m'\u001b[39m)\n",
      "Cell \u001b[0;32mIn[53], line 37\u001b[0m, in \u001b[0;36mrectangle.__repr__\u001b[0;34m(self)\u001b[0m\n\u001b[1;32m     36\u001b[0m \u001b[38;5;28;01mdef\u001b[39;00m \u001b[38;5;21m__repr__\u001b[39m(\u001b[38;5;28mself\u001b[39m):\n\u001b[0;32m---> 37\u001b[0m     \u001b[38;5;28;01mreturn\u001b[39;00m \u001b[38;5;124mf\u001b[39m\u001b[38;5;124m\"\u001b[39m\u001b[38;5;124mrectangle(\u001b[39m\u001b[38;5;132;01m{\u001b[39;00m\u001b[38;5;28mself\u001b[39m\u001b[38;5;241m.\u001b[39ml\u001b[38;5;132;01m}\u001b[39;00m\u001b[38;5;124m, \u001b[39m\u001b[38;5;132;01m{\u001b[39;00m\u001b[38;5;28mself\u001b[39m\u001b[38;5;241m.\u001b[39mw\u001b[38;5;132;01m}\u001b[39;00m\u001b[38;5;124m, \u001b[39m\u001b[38;5;132;01m{\u001b[39;00m\u001b[38;5;28mself\u001b[39m\u001b[38;5;241m.\u001b[39mx\u001b[38;5;132;01m}\u001b[39;00m\u001b[38;5;124m, \u001b[39m\u001b[38;5;132;01m{\u001b[39;00m\u001b[38;5;28mself\u001b[39m\u001b[38;5;241m.\u001b[39my\u001b[38;5;132;01m}\u001b[39;00m\u001b[38;5;124m)\u001b[39m\u001b[38;5;124m\"\u001b[39m\n",
      "\u001b[0;31mAttributeError\u001b[0m: 'rectangle' object has no attribute 'l'"
     ]
    }
   ],
   "source": [
    "# paint.py\n",
    "\n",
    "class RasterDrawing:\n",
    "    def __init__(self,w,h):\n",
    "        self.canvas = Canvas(w,h)\n",
    "        self.shapes = []\n",
    "    def add_shape(self, shape):\n",
    "        self.shapes.append(shape)\n",
    "    def remove_shape(self, shape):\n",
    "        if shape in self.shapes:\n",
    "            self.shapes.remove(shape)\n",
    "    def paint(self):\n",
    "        self.canvas.clear()\n",
    "        for shape in self.shapes:\n",
    "            shape.paint(self.canvas)\n",
    "        self.canvas.draw()\n",
    "    def save(self, filename):\n",
    "        with open(filename, 'w') as file:\n",
    "            for shape in self.shapes:\n",
    "                file.write(repr(shape) + '\\n')\n",
    "def load(filename):\n",
    "    drawing = RasterDrawing(20, 20)\n",
    "    with open(filename, 'r') as file:\n",
    "        for line in file:\n",
    "            shape = eval(line)\n",
    "            drawing.add_shape(shape)\n",
    "    return drawing\n",
    "class rectangle(shape):\n",
    "    def __init__(self,l,w,x,y):\n",
    "        super().__init__()\n",
    "        self.length=l\n",
    "        self.width=w\n",
    "        self.x=x\n",
    "        self.y=y\n",
    "\n",
    "    def __repr__(self):\n",
    "        return f\"rectangle({self.l}, {self.w}, {self.x}, {self.y})\"\n",
    "class circle(shape):\n",
    "    def __init__(self,r,x,y):\n",
    "        self.r=r\n",
    "        self.x=x\n",
    "        self.y=y\n",
    "    def __repr__(self):\n",
    "        return f\"circle({self.r}, {self.x}, {self.y})\"\n",
    "class triangle(Shape):\n",
    "    def __init__(self, a,b,c,h,x,y):\n",
    "        self.a=a\n",
    "        self.b=b\n",
    "        self.c=c\n",
    "        self.h=h\n",
    "        self.x=x\n",
    "        self.y=y \n",
    "    def __repr__(self):\n",
    "        return f\"triangle({self.a}, {self.b},{self.c}, {self.h}, {self.x}, {self.y})\"\n",
    "        \n",
    "drawing = RasterDrawing(20, 20)\n",
    "rectangle = rectangle(8, 5, 1, 1)\n",
    "circle = circle(4, 15, 5)\n",
    "triangle = triangle(3, 3, 8, 3, 5, 10)\n",
    "\n",
    "drawing.add_shape(rectangle)\n",
    "drawing.add_shape(circle)\n",
    "drawing.add_shape(triangle)\n",
    "\n",
    "drawing.save('drawing.txt')\n",
    "loaded_drawing = load('drawing.txt')"
   ]
  },
  {
   "cell_type": "code",
   "execution_count": null,
   "metadata": {},
   "outputs": [],
   "source": []
  }
 ],
 "metadata": {
  "kernelspec": {
   "display_name": "Python 3 (ipykernel)",
   "language": "python",
   "name": "python3"
  },
  "language_info": {
   "codemirror_mode": {
    "name": "ipython",
    "version": 3
   },
   "file_extension": ".py",
   "mimetype": "text/x-python",
   "name": "python",
   "nbconvert_exporter": "python",
   "pygments_lexer": "ipython3",
   "version": "3.9.6"
  }
 },
 "nbformat": 4,
 "nbformat_minor": 4
}
