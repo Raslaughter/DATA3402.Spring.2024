{
 "cells": [
  {
   "cell_type": "markdown",
   "metadata": {
    "tags": []
   },
   "source": [
    "## Lab 2- Tic Tac Toe\n",
    "\n",
    "In this lab your will build a n x n Tic Tac Toe game. As you do the exercises, make sure your solutions work for any size Tic Tac Toe game. "
   ]
  },
  {
   "cell_type": "code",
   "execution_count": null,
   "metadata": {},
   "outputs": [],
   "source": [
    "# Quiz:\n",
    "\n",
    "new_args = [a if not isinstance(a, list) \n",
    "            else ([a]*max_len if len(a)!=max_len else a) \n",
    "            for a in args]"
   ]
  },
  {
   "cell_type": "markdown",
   "metadata": {},
   "source": [
    "*Exercise 1:* Write a function that creates an n by n matrix (of list of lists) which will represent the state of a Tie Tac Toe game. Let 0, 1, and 2 represent empty, \"X\", and \"O\", respectively.\n"
   ]
  },
  {
   "cell_type": "code",
   "execution_count": 230,
   "metadata": {
    "tags": []
   },
   "outputs": [],
   "source": [
    "player_1=1\n",
    "player_2=2\n",
    "empty=0\n",
    "player_1_piece=\"X\"\n",
    "player_2_piece=\"O\"\n",
    "empty_space=\" \"\n",
    "\n",
    "def space_character(player):\n",
    "    if player==player_1:\n",
    "        return player_1_piece\n",
    "    elif player==player_2:\n",
    "        return player_2_piece\n",
    "    else:\n",
    "        return empty_space\n",
    "    \n",
    "space_character={player_1:player_1_piece,\n",
    "                 player_2:player_2_piece,\n",
    "                 empty:empty_space}"
   ]
  },
  {
   "cell_type": "code",
   "execution_count": 1,
   "metadata": {
    "collapsed": true,
    "jupyter": {
     "outputs_hidden": true
    },
    "tags": []
   },
   "outputs": [
    {
     "ename": "NameError",
     "evalue": "name 'space_character' is not defined",
     "output_type": "error",
     "traceback": [
      "\u001b[0;31m---------------------------------------------------------------------------\u001b[0m",
      "\u001b[0;31mNameError\u001b[0m                                 Traceback (most recent call last)",
      "Cell \u001b[0;32mIn[1], line 1\u001b[0m\n\u001b[0;32m----> 1\u001b[0m \u001b[43mspace_character\u001b[49m\n",
      "\u001b[0;31mNameError\u001b[0m: name 'space_character' is not defined"
     ]
    }
   ],
   "source": [
    "space_character"
   ]
  },
  {
   "cell_type": "markdown",
   "metadata": {},
   "source": [
    "*Exercise 2:* Write a function that takes 2 integers `n` and `m` as input and draws a `n` by `m` game board. For example the following is a 3x3 board:\n",
    "```\n",
    "   --- --- --- \n",
    "  |   |   |   | \n",
    "   --- --- ---  \n",
    "  |   |   |   | \n",
    "   --- --- ---  \n",
    "  |   |   |   | \n",
    "   --- --- --- \n",
    "   ```"
   ]
  },
  {
   "cell_type": "code",
   "execution_count": null,
   "metadata": {
    "collapsed": true,
    "jupyter": {
     "outputs_hidden": true
    }
   },
   "outputs": [],
   "source": [
    "size=3\n",
    "board=list()\n",
    "for i in range(size):\n",
    "    row=list()\n",
    "    for j in range (size):\n",
    "        row.append(empty)\n",
    "        \n",
    "    board.append(row)\n",
    "    \n",
    "def make_game_board(size=3):\n",
    "    board = [[empty] * size for _ in range(size)]\n",
    "    return board\n",
    "    "
   ]
  },
  {
   "cell_type": "code",
   "execution_count": 2,
   "metadata": {
    "collapsed": true,
    "jupyter": {
     "outputs_hidden": true
    },
    "tags": []
   },
   "outputs": [
    {
     "ename": "NameError",
     "evalue": "name 'make_game_board' is not defined",
     "output_type": "error",
     "traceback": [
      "\u001b[0;31m---------------------------------------------------------------------------\u001b[0m",
      "\u001b[0;31mNameError\u001b[0m                                 Traceback (most recent call last)",
      "Cell \u001b[0;32mIn[2], line 1\u001b[0m\n\u001b[0;32m----> 1\u001b[0m board_0\u001b[38;5;241m=\u001b[39m\u001b[43mmake_game_board\u001b[49m()\n\u001b[1;32m      2\u001b[0m board_0\n",
      "\u001b[0;31mNameError\u001b[0m: name 'make_game_board' is not defined"
     ]
    }
   ],
   "source": [
    "board_0=make_game_board()\n",
    "board_0"
   ]
  },
  {
   "cell_type": "markdown",
   "metadata": {},
   "source": [
    "*Exercise 3:* Modify exercise 2, so that it takes a matrix of the form from exercise 1 and draws a tic-tac-tie board with \"X\"s and \"O\"s.  "
   ]
  },
  {
   "cell_type": "code",
   "execution_count": null,
   "metadata": {
    "collapsed": true,
    "jupyter": {
     "outputs_hidden": true
    }
   },
   "outputs": [],
   "source": [
    "def draw_board(board):\n",
    "    for i in range(size):\n",
    "        for j in range(size):\n",
    "            print(space_character[board[i][j]],end=\" \")\n",
    "        print()\n",
    "        \n",
    "def move_piece(board,player,location,verbose=True):\n",
    "    x,y=location\n",
    "    \n",
    "    if not board[x][y] == player:\n",
    "        print(\"Player does not have piece at location.\",verbose)\n",
    "        return False\n",
    "    x_offset,y_offset = moves[player][move]\n",
    "    \n",
    "    move_possible= x+x_offset < size and \\\n",
    "                    x+x_offset >= 0 and \\\n",
    "                    y+y_offset < size and \\\n",
    "                    y+y_offset >= 0\n",
    "   \n",
    "    \n",
    "    if not (move_possible):\n",
    "        print(\"Move is off of board.\",verbose)\n",
    "        return False\n",
    "        \n",
    "    if move_possible and \\\n",
    "        board[x+x_offset][y+y_offset]==empty:\n",
    "  \n",
    "        return True\n",
    "    else:\n",
    "        print(\"Move not possible.\",verbose)\n",
    "        return False\n",
    "board[1][2]=0\n",
    "board"
   ]
  },
  {
   "cell_type": "code",
   "execution_count": null,
   "metadata": {
    "collapsed": true,
    "jupyter": {
     "outputs_hidden": true
    }
   },
   "outputs": [],
   "source": [
    "draw_board(board)"
   ]
  },
  {
   "cell_type": "markdown",
   "metadata": {},
   "source": [
    "*Exercise 4:* Write a function that takes a `n` by `n` matrix representing a tic-tac-toe game, and returns -1, 0, 1, or 2 indicating the game is incomplete, the game is a draw, player 1 has won, or player 2 has one, respectively. Here are some example inputs you can use to test your code:"
   ]
  },
  {
   "cell_type": "code",
   "execution_count": null,
   "metadata": {
    "collapsed": true,
    "jupyter": {
     "outputs_hidden": true
    }
   },
   "outputs": [],
   "source": [
    "def extract_diags(M):\n",
    "    n=len(M)\n",
    "    m=len(M[0])\n",
    "    \n",
    "    if n!=m:\n",
    "        print(\"Not a square matrix\")\n",
    "        return None\n",
    "    \n",
    "    diag_1=[M[i][i] for i in range (n)]\n",
    "    diag_2=[M[i][n-i-1] for i in range(n)]\n",
    "    \n",
    "    return [diag_1,diag_2]\n",
    "\n",
    "def extract_rows(M):\n",
    "    return M\n",
    "\n",
    "def extract_columns(M):\n",
    "    n=len(M)\n",
    "    m=len(M[0])\n",
    "    \n",
    "    if n!=m:\n",
    "        print(\"Not a square matrix\")\n",
    "        return None\n",
    "    M_T=list()\n",
    "    for i in range(n):\n",
    "        M_T.append([0]*n)\n",
    "        \n",
    "    for i in range(n):\n",
    "        for j in range(n):\n",
    "            M_T[i][j]=M[j][i]\n",
    "    return M_T\n",
    "\n",
    "def get_all_paths(M):\n",
    "    return extract_rows(M)+extract_columns(M)+extract_diags(M)"
   ]
  },
  {
   "cell_type": "code",
   "execution_count": 3,
   "metadata": {
    "collapsed": true,
    "jupyter": {
     "outputs_hidden": true
    },
    "tags": []
   },
   "outputs": [
    {
     "ename": "NameError",
     "evalue": "name 'extract_diags' is not defined",
     "output_type": "error",
     "traceback": [
      "\u001b[0;31m---------------------------------------------------------------------------\u001b[0m",
      "\u001b[0;31mNameError\u001b[0m                                 Traceback (most recent call last)",
      "Cell \u001b[0;32mIn[3], line 1\u001b[0m\n\u001b[0;32m----> 1\u001b[0m \u001b[43mextract_diags\u001b[49m(also_no_winner)\n\u001b[1;32m      2\u001b[0m get_all_paths(also_no_winner)\n",
      "\u001b[0;31mNameError\u001b[0m: name 'extract_diags' is not defined"
     ]
    }
   ],
   "source": [
    "extract_diags(also_no_winner)\n",
    "get_all_paths(also_no_winner)"
   ]
  },
  {
   "cell_type": "code",
   "execution_count": null,
   "metadata": {
    "collapsed": true,
    "jupyter": {
     "outputs_hidden": true
    }
   },
   "outputs": [],
   "source": [
    "winner_is_2 = [[2, 2, 0],\n",
    "\t[2, 1, 0],\n",
    "\t[2, 1, 1]]\n",
    "\n",
    "winner_is_1 = [[1, 2, 0],\n",
    "\t[2, 1, 0],\n",
    "\t[2, 1, 1]]\n",
    "\n",
    "winner_is_also_1 = [[0, 1, 0],\n",
    "\t[2, 1, 0],\n",
    "\t[2, 1, 1]]\n",
    "\n",
    "no_winner = [[1, 2, 0],\n",
    "\t[2, 1, 0],\n",
    "\t[2, 1, 2]]\n",
    "\n",
    "also_no_winner = [[1, 2, 0],\n",
    "\t[2, 1, 0],\n",
    "\t[2, 1, 0]]"
   ]
  },
  {
   "cell_type": "markdown",
   "metadata": {},
   "source": [
    "*Exercise 5:* Write a function that takes a game board, player number, and `(x,y)` coordinates and places \"X\" or \"O\" in the correct location of the game board. Make sure that you only allow filling previously empty locations. Return `True` or `False` to indicate successful placement of \"X\" or \"O\"."
   ]
  },
  {
   "cell_type": "code",
   "execution_count": null,
   "metadata": {
    "collapsed": true,
    "jupyter": {
     "outputs_hidden": true
    }
   },
   "outputs": [],
   "source": [
    "row_names=list(\"ABCDEFGHIJKLMNOPQRSTUVWXYZ\")\n",
    "row_map=dict(zip(row_names,range(size)))\n",
    "\n",
    "column_names=list(map(str,range(1,size+1)))\n",
    "column_map=dict(zip(column_names,range(size)))\n",
    "\n",
    "def draw_board(board):\n",
    "    print(\" \",end=\" \")\n",
    "    for j in range(size):\n",
    "        print(column_names[j],end=\" \")\n",
    "    print()\n",
    "    \n",
    "    for i in range(size):\n",
    "        print(row_names[i],end=\" \")\n",
    "        for j in range(size):\n",
    "            print(space_character[board[i][j]],end=\" \")\n",
    "        print()"
   ]
  },
  {
   "cell_type": "code",
   "execution_count": null,
   "metadata": {
    "collapsed": true,
    "jupyter": {
     "outputs_hidden": true
    }
   },
   "outputs": [],
   "source": [
    "draw_board(board_0)"
   ]
  },
  {
   "cell_type": "markdown",
   "metadata": {},
   "source": [
    "*Exercise 6:* Modify Exercise 4 to show column and row labels so that players can specify location using \"A2\" or \"C1\"."
   ]
  },
  {
   "cell_type": "code",
   "execution_count": null,
   "metadata": {
    "collapsed": true,
    "jupyter": {
     "outputs_hidden": true
    }
   },
   "outputs": [],
   "source": [
    "def parse_location(l_string):\n",
    "    if not isinstance(l_string,str):\n",
    "        print(\"Bad Input. Location must be string.\")\n",
    "        return False\n",
    "    \n",
    "    if len(l_string)!=2:\n",
    "        print(\"Bad Input. Location must be 2 characters.\")\n",
    "        return False \n",
    "    row=l_string[0].upper()\n",
    "    col=l_string[1].upper()   \n",
    "    if not row in row_names:\n",
    "        print(\"Bad Row.\")\n",
    "        return False\n",
    "\n",
    "    if not col in column_names:\n",
    "        print(\"Bad Column.\")\n",
    "        return False\n",
    "    return row_map[row],column_map[col]"
   ]
  },
  {
   "cell_type": "code",
   "execution_count": null,
   "metadata": {
    "collapsed": true,
    "jupyter": {
     "outputs_hidden": true
    }
   },
   "outputs": [],
   "source": [
    "parse_location(\"C1\")"
   ]
  },
  {
   "cell_type": "markdown",
   "metadata": {},
   "source": [
    "*Exercise 7:* Write a function that takes a board, player number, and location specified as in exercise 6 and then calls exercise 5 to correctly modify the board.  "
   ]
  },
  {
   "cell_type": "code",
   "execution_count": null,
   "metadata": {
    "collapsed": true,
    "jupyter": {
     "outputs_hidden": true
    }
   },
   "outputs": [],
   "source": [
    "def nice_move_piece(board, player, location):\n",
    "    row, col = parse_location(location)\n",
    "\n",
    "    if row is not False and col is not False:\n",
    "        if board[row][col] == ' ': \n",
    "            board[row][col] = player\n",
    "            return True\n",
    "    else:\n",
    "        print(\"Invalid location. Please input a valid location.\")\n",
    "        return False"
   ]
  },
  {
   "cell_type": "code",
   "execution_count": 4,
   "metadata": {
    "collapsed": true,
    "jupyter": {
     "outputs_hidden": true
    },
    "tags": []
   },
   "outputs": [
    {
     "ename": "NameError",
     "evalue": "name 'draw_board' is not defined",
     "output_type": "error",
     "traceback": [
      "\u001b[0;31m---------------------------------------------------------------------------\u001b[0m",
      "\u001b[0;31mNameError\u001b[0m                                 Traceback (most recent call last)",
      "Cell \u001b[0;32mIn[4], line 1\u001b[0m\n\u001b[0;32m----> 1\u001b[0m \u001b[43mdraw_board\u001b[49m(board)\n\u001b[1;32m      2\u001b[0m nice_move_piece(board,player_1,\u001b[38;5;124m\"\u001b[39m\u001b[38;5;124mA2\u001b[39m\u001b[38;5;124m\"\u001b[39m)\n\u001b[1;32m      3\u001b[0m draw_board(board)\n",
      "\u001b[0;31mNameError\u001b[0m: name 'draw_board' is not defined"
     ]
    }
   ],
   "source": [
    "draw_board(board)\n",
    "nice_move_piece(board,player_1,\"A2\")\n",
    "draw_board(board)"
   ]
  },
  {
   "cell_type": "markdown",
   "metadata": {},
   "source": [
    "*Exercise 8:* Write a function is called with a board and player number, takes input from the player using python's `input`, and modifies the board using your function from exercise 7. Note that you should keep asking for input until you have gotten a valid input that results in a valid move."
   ]
  },
  {
   "cell_type": "code",
   "execution_count": null,
   "metadata": {
    "collapsed": true,
    "jupyter": {
     "outputs_hidden": true
    }
   },
   "outputs": [],
   "source": [
    "# Write you solution here"
   ]
  },
  {
   "cell_type": "code",
   "execution_count": null,
   "metadata": {
    "collapsed": true,
    "jupyter": {
     "outputs_hidden": true
    }
   },
   "outputs": [],
   "source": [
    "# Test your solution here"
   ]
  },
  {
   "cell_type": "markdown",
   "metadata": {},
   "source": [
    "*Exercise 9:* Use all of the previous exercises to implement a full tic-tac-toe game, where an appropriate board is drawn, 2 players are repeatedly asked for a location coordinates of where they wish to place a mark, and the game status is checked until a player wins or a draw occurs."
   ]
  },
  {
   "cell_type": "code",
   "execution_count": null,
   "metadata": {
    "collapsed": true,
    "jupyter": {
     "outputs_hidden": true
    }
   },
   "outputs": [],
   "source": [
    "# Write you solution here"
   ]
  },
  {
   "cell_type": "code",
   "execution_count": null,
   "metadata": {
    "collapsed": true,
    "jupyter": {
     "outputs_hidden": true
    }
   },
   "outputs": [],
   "source": [
    "# Test your solution here"
   ]
  },
  {
   "cell_type": "markdown",
   "metadata": {},
   "source": [
    "*Exercise 10:* Test that your game works for 5x5 Tic Tac Toe.  "
   ]
  },
  {
   "cell_type": "code",
   "execution_count": null,
   "metadata": {
    "collapsed": true,
    "jupyter": {
     "outputs_hidden": true
    }
   },
   "outputs": [],
   "source": [
    "# Test your solution here"
   ]
  },
  {
   "cell_type": "markdown",
   "metadata": {},
   "source": [
    "*Exercise 11:* (Advanced / Challenge) Develop a version of the game where one player is the computer. Note that you don't need to do an extensive seach for the best move. You can have the computer simply protect against loosing and otherwise try to win with straight or diagonal patterns."
   ]
  },
  {
   "cell_type": "code",
   "execution_count": null,
   "metadata": {
    "collapsed": true,
    "jupyter": {
     "outputs_hidden": true
    }
   },
   "outputs": [],
   "source": [
    "# Write you solution here"
   ]
  },
  {
   "cell_type": "code",
   "execution_count": null,
   "metadata": {
    "collapsed": true,
    "jupyter": {
     "outputs_hidden": true
    }
   },
   "outputs": [],
   "source": [
    "# Test your solution here"
   ]
  }
 ],
 "metadata": {
  "kernelspec": {
   "display_name": "Python 3 (ipykernel)",
   "language": "python",
   "name": "python3"
  },
  "language_info": {
   "codemirror_mode": {
    "name": "ipython",
    "version": 3
   },
   "file_extension": ".py",
   "mimetype": "text/x-python",
   "name": "python",
   "nbconvert_exporter": "python",
   "pygments_lexer": "ipython3",
   "version": "3.9.6"
  }
 },
 "nbformat": 4,
 "nbformat_minor": 4
}
